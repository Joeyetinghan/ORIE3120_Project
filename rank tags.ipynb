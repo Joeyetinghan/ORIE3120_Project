{
 "cells": [
  {
   "cell_type": "code",
   "execution_count": 1,
   "metadata": {},
   "outputs": [],
   "source": [
    "import numpy as np \n",
    "import pandas as pd \n",
    "import matplotlib.pyplot as plt \n",
    "import seaborn as sns\n",
    "import itertools\n",
    "import collections\n",
    "import nltk\n",
    "from nltk.corpus import stopwords\n",
    "import re\n",
    "import networkx\n",
    "\n",
    "import warnings\n",
    "warnings.filterwarnings(\"ignore\")\n",
    "sns.set(font_scale=1.5)\n",
    "sns.set_style(\"whitegrid\")"
   ]
  },
  {
   "cell_type": "code",
   "execution_count": 2,
   "metadata": {},
   "outputs": [
    {
     "name": "stderr",
     "output_type": "stream",
     "text": [
      "[nltk_data] Downloading package stopwords to /Users/joeye/nltk_data...\n",
      "[nltk_data]   Package stopwords is already up-to-date!\n"
     ]
    }
   ],
   "source": [
    "nltk.download('stopwords')\n",
    "stop_words = set(stopwords.words('english'))"
   ]
  },
  {
   "cell_type": "code",
   "execution_count": 3,
   "metadata": {
    "scrolled": false
   },
   "outputs": [
    {
     "data": {
      "text/html": [
       "<div>\n",
       "<style scoped>\n",
       "    .dataframe tbody tr th:only-of-type {\n",
       "        vertical-align: middle;\n",
       "    }\n",
       "\n",
       "    .dataframe tbody tr th {\n",
       "        vertical-align: top;\n",
       "    }\n",
       "\n",
       "    .dataframe thead th {\n",
       "        text-align: right;\n",
       "    }\n",
       "</style>\n",
       "<table border=\"1\" class=\"dataframe\">\n",
       "  <thead>\n",
       "    <tr style=\"text-align: right;\">\n",
       "      <th></th>\n",
       "      <th>video_id</th>\n",
       "      <th>trending_date</th>\n",
       "      <th>title</th>\n",
       "      <th>channel_title</th>\n",
       "      <th>category_id</th>\n",
       "      <th>publish_time</th>\n",
       "      <th>tags</th>\n",
       "      <th>views</th>\n",
       "      <th>likes</th>\n",
       "      <th>dislikes</th>\n",
       "      <th>comment_count</th>\n",
       "      <th>thumbnail_link</th>\n",
       "      <th>comments_disabled</th>\n",
       "      <th>ratings_disabled</th>\n",
       "      <th>video_error_or_removed</th>\n",
       "      <th>description</th>\n",
       "    </tr>\n",
       "  </thead>\n",
       "  <tbody>\n",
       "    <tr>\n",
       "      <th>0</th>\n",
       "      <td>2kyS6SvSYSE</td>\n",
       "      <td>17.14.11</td>\n",
       "      <td>WE WANT TO TALK ABOUT OUR MARRIAGE</td>\n",
       "      <td>CaseyNeistat</td>\n",
       "      <td>22</td>\n",
       "      <td>2017-11-13T17:13:01.000Z</td>\n",
       "      <td>SHANtell martin</td>\n",
       "      <td>748374</td>\n",
       "      <td>57527</td>\n",
       "      <td>2966</td>\n",
       "      <td>15954</td>\n",
       "      <td>https://i.ytimg.com/vi/2kyS6SvSYSE/default.jpg</td>\n",
       "      <td>False</td>\n",
       "      <td>False</td>\n",
       "      <td>False</td>\n",
       "      <td>SHANTELL'S CHANNEL - https://www.youtube.com/s...</td>\n",
       "    </tr>\n",
       "    <tr>\n",
       "      <th>1</th>\n",
       "      <td>1ZAPwfrtAFY</td>\n",
       "      <td>17.14.11</td>\n",
       "      <td>The Trump Presidency: Last Week Tonight with J...</td>\n",
       "      <td>LastWeekTonight</td>\n",
       "      <td>24</td>\n",
       "      <td>2017-11-13T07:30:00.000Z</td>\n",
       "      <td>last week tonight trump presidency|\"last week ...</td>\n",
       "      <td>2418783</td>\n",
       "      <td>97185</td>\n",
       "      <td>6146</td>\n",
       "      <td>12703</td>\n",
       "      <td>https://i.ytimg.com/vi/1ZAPwfrtAFY/default.jpg</td>\n",
       "      <td>False</td>\n",
       "      <td>False</td>\n",
       "      <td>False</td>\n",
       "      <td>One year after the presidential election, John...</td>\n",
       "    </tr>\n",
       "    <tr>\n",
       "      <th>2</th>\n",
       "      <td>5qpjK5DgCt4</td>\n",
       "      <td>17.14.11</td>\n",
       "      <td>Racist Superman | Rudy Mancuso, King Bach &amp; Le...</td>\n",
       "      <td>Rudy Mancuso</td>\n",
       "      <td>23</td>\n",
       "      <td>2017-11-12T19:05:24.000Z</td>\n",
       "      <td>racist superman|\"rudy\"|\"mancuso\"|\"king\"|\"bach\"...</td>\n",
       "      <td>3191434</td>\n",
       "      <td>146033</td>\n",
       "      <td>5339</td>\n",
       "      <td>8181</td>\n",
       "      <td>https://i.ytimg.com/vi/5qpjK5DgCt4/default.jpg</td>\n",
       "      <td>False</td>\n",
       "      <td>False</td>\n",
       "      <td>False</td>\n",
       "      <td>WATCH MY PREVIOUS VIDEO ▶ \\n\\nSUBSCRIBE ► http...</td>\n",
       "    </tr>\n",
       "    <tr>\n",
       "      <th>3</th>\n",
       "      <td>puqaWrEC7tY</td>\n",
       "      <td>17.14.11</td>\n",
       "      <td>Nickelback Lyrics: Real or Fake?</td>\n",
       "      <td>Good Mythical Morning</td>\n",
       "      <td>24</td>\n",
       "      <td>2017-11-13T11:00:04.000Z</td>\n",
       "      <td>rhett and link|\"gmm\"|\"good mythical morning\"|\"...</td>\n",
       "      <td>343168</td>\n",
       "      <td>10172</td>\n",
       "      <td>666</td>\n",
       "      <td>2146</td>\n",
       "      <td>https://i.ytimg.com/vi/puqaWrEC7tY/default.jpg</td>\n",
       "      <td>False</td>\n",
       "      <td>False</td>\n",
       "      <td>False</td>\n",
       "      <td>Today we find out if Link is a Nickelback amat...</td>\n",
       "    </tr>\n",
       "    <tr>\n",
       "      <th>4</th>\n",
       "      <td>d380meD0W0M</td>\n",
       "      <td>17.14.11</td>\n",
       "      <td>I Dare You: GOING BALD!?</td>\n",
       "      <td>nigahiga</td>\n",
       "      <td>24</td>\n",
       "      <td>2017-11-12T18:01:41.000Z</td>\n",
       "      <td>ryan|\"higa\"|\"higatv\"|\"nigahiga\"|\"i dare you\"|\"...</td>\n",
       "      <td>2095731</td>\n",
       "      <td>132235</td>\n",
       "      <td>1989</td>\n",
       "      <td>17518</td>\n",
       "      <td>https://i.ytimg.com/vi/d380meD0W0M/default.jpg</td>\n",
       "      <td>False</td>\n",
       "      <td>False</td>\n",
       "      <td>False</td>\n",
       "      <td>I know it's been a while since we did this sho...</td>\n",
       "    </tr>\n",
       "    <tr>\n",
       "      <th>5</th>\n",
       "      <td>gHZ1Qz0KiKM</td>\n",
       "      <td>17.14.11</td>\n",
       "      <td>2 Weeks with iPhone X</td>\n",
       "      <td>iJustine</td>\n",
       "      <td>28</td>\n",
       "      <td>2017-11-13T19:07:23.000Z</td>\n",
       "      <td>ijustine|\"week with iPhone X\"|\"iphone x\"|\"appl...</td>\n",
       "      <td>119180</td>\n",
       "      <td>9763</td>\n",
       "      <td>511</td>\n",
       "      <td>1434</td>\n",
       "      <td>https://i.ytimg.com/vi/gHZ1Qz0KiKM/default.jpg</td>\n",
       "      <td>False</td>\n",
       "      <td>False</td>\n",
       "      <td>False</td>\n",
       "      <td>Using the iPhone for the past two weeks -- her...</td>\n",
       "    </tr>\n",
       "    <tr>\n",
       "      <th>6</th>\n",
       "      <td>39idVpFF7NQ</td>\n",
       "      <td>17.14.11</td>\n",
       "      <td>Roy Moore &amp; Jeff Sessions Cold Open - SNL</td>\n",
       "      <td>Saturday Night Live</td>\n",
       "      <td>24</td>\n",
       "      <td>2017-11-12T05:37:17.000Z</td>\n",
       "      <td>SNL|\"Saturday Night Live\"|\"SNL Season 43\"|\"Epi...</td>\n",
       "      <td>2103417</td>\n",
       "      <td>15993</td>\n",
       "      <td>2445</td>\n",
       "      <td>1970</td>\n",
       "      <td>https://i.ytimg.com/vi/39idVpFF7NQ/default.jpg</td>\n",
       "      <td>False</td>\n",
       "      <td>False</td>\n",
       "      <td>False</td>\n",
       "      <td>Embattled Alabama Senate candidate Roy Moore (...</td>\n",
       "    </tr>\n",
       "    <tr>\n",
       "      <th>7</th>\n",
       "      <td>nc99ccSXST0</td>\n",
       "      <td>17.14.11</td>\n",
       "      <td>5 Ice Cream Gadgets put to the Test</td>\n",
       "      <td>CrazyRussianHacker</td>\n",
       "      <td>28</td>\n",
       "      <td>2017-11-12T21:50:37.000Z</td>\n",
       "      <td>5 Ice Cream Gadgets|\"Ice Cream\"|\"Cream Sandwic...</td>\n",
       "      <td>817732</td>\n",
       "      <td>23663</td>\n",
       "      <td>778</td>\n",
       "      <td>3432</td>\n",
       "      <td>https://i.ytimg.com/vi/nc99ccSXST0/default.jpg</td>\n",
       "      <td>False</td>\n",
       "      <td>False</td>\n",
       "      <td>False</td>\n",
       "      <td>Ice Cream Pint Combination Lock - http://amzn....</td>\n",
       "    </tr>\n",
       "    <tr>\n",
       "      <th>8</th>\n",
       "      <td>jr9QtXwC9vc</td>\n",
       "      <td>17.14.11</td>\n",
       "      <td>The Greatest Showman | Official Trailer 2 [HD]...</td>\n",
       "      <td>20th Century Fox</td>\n",
       "      <td>1</td>\n",
       "      <td>2017-11-13T14:00:23.000Z</td>\n",
       "      <td>Trailer|\"Hugh Jackman\"|\"Michelle Williams\"|\"Za...</td>\n",
       "      <td>826059</td>\n",
       "      <td>3543</td>\n",
       "      <td>119</td>\n",
       "      <td>340</td>\n",
       "      <td>https://i.ytimg.com/vi/jr9QtXwC9vc/default.jpg</td>\n",
       "      <td>False</td>\n",
       "      <td>False</td>\n",
       "      <td>False</td>\n",
       "      <td>Inspired by the imagination of P.T. Barnum, Th...</td>\n",
       "    </tr>\n",
       "    <tr>\n",
       "      <th>9</th>\n",
       "      <td>TUmyygCMMGA</td>\n",
       "      <td>17.14.11</td>\n",
       "      <td>Why the rise of the robots won’t mean the end ...</td>\n",
       "      <td>Vox</td>\n",
       "      <td>25</td>\n",
       "      <td>2017-11-13T13:45:16.000Z</td>\n",
       "      <td>vox.com|\"vox\"|\"explain\"|\"shift change\"|\"future...</td>\n",
       "      <td>256426</td>\n",
       "      <td>12654</td>\n",
       "      <td>1363</td>\n",
       "      <td>2368</td>\n",
       "      <td>https://i.ytimg.com/vi/TUmyygCMMGA/default.jpg</td>\n",
       "      <td>False</td>\n",
       "      <td>False</td>\n",
       "      <td>False</td>\n",
       "      <td>For now, at least, we have better things to wo...</td>\n",
       "    </tr>\n",
       "    <tr>\n",
       "      <th>10</th>\n",
       "      <td>9wRQljFNDW8</td>\n",
       "      <td>17.14.11</td>\n",
       "      <td>Dion Lewis' 103-Yd Kick Return TD vs. Denver! ...</td>\n",
       "      <td>NFL</td>\n",
       "      <td>17</td>\n",
       "      <td>2017-11-13T02:05:26.000Z</td>\n",
       "      <td>NFL|\"Football\"|\"offense\"|\"defense\"|\"afc\"|\"nfc\"...</td>\n",
       "      <td>81377</td>\n",
       "      <td>655</td>\n",
       "      <td>25</td>\n",
       "      <td>177</td>\n",
       "      <td>https://i.ytimg.com/vi/9wRQljFNDW8/default.jpg</td>\n",
       "      <td>False</td>\n",
       "      <td>False</td>\n",
       "      <td>False</td>\n",
       "      <td>New England Patriots returner Dion Lewis blast...</td>\n",
       "    </tr>\n",
       "    <tr>\n",
       "      <th>11</th>\n",
       "      <td>VifQlJit6A0</td>\n",
       "      <td>17.14.11</td>\n",
       "      <td>(SPOILERS) 'Shiva Saves the Day' Talked About ...</td>\n",
       "      <td>amc</td>\n",
       "      <td>24</td>\n",
       "      <td>2017-11-13T03:00:00.000Z</td>\n",
       "      <td>The Walking Dead|\"shiva\"|\"tiger\"|\"king ezekiel...</td>\n",
       "      <td>104578</td>\n",
       "      <td>1576</td>\n",
       "      <td>303</td>\n",
       "      <td>1279</td>\n",
       "      <td>https://i.ytimg.com/vi/VifQlJit6A0/default.jpg</td>\n",
       "      <td>False</td>\n",
       "      <td>False</td>\n",
       "      <td>False</td>\n",
       "      <td>Shiva arrives just in time as King Ezekiel att...</td>\n",
       "    </tr>\n",
       "    <tr>\n",
       "      <th>12</th>\n",
       "      <td>5E4ZBSInqUU</td>\n",
       "      <td>17.14.11</td>\n",
       "      <td>Marshmello - Blocks (Official Music Video)</td>\n",
       "      <td>marshmello</td>\n",
       "      <td>10</td>\n",
       "      <td>2017-11-13T17:00:00.000Z</td>\n",
       "      <td>marshmello|\"blocks\"|\"marshmello blocks\"|\"block...</td>\n",
       "      <td>687582</td>\n",
       "      <td>114188</td>\n",
       "      <td>1333</td>\n",
       "      <td>8371</td>\n",
       "      <td>https://i.ytimg.com/vi/5E4ZBSInqUU/default.jpg</td>\n",
       "      <td>False</td>\n",
       "      <td>False</td>\n",
       "      <td>False</td>\n",
       "      <td>WATCH SILENCE MUSIC VIDEO ▶ https://youtu.be/T...</td>\n",
       "    </tr>\n",
       "    <tr>\n",
       "      <th>13</th>\n",
       "      <td>GgVmn66oK_A</td>\n",
       "      <td>17.14.11</td>\n",
       "      <td>Which Countries Are About To Collapse?</td>\n",
       "      <td>NowThis World</td>\n",
       "      <td>25</td>\n",
       "      <td>2017-11-12T14:00:00.000Z</td>\n",
       "      <td>nowthis|\"nowthis world\"|\"world news\"|\"nowthis ...</td>\n",
       "      <td>544770</td>\n",
       "      <td>7848</td>\n",
       "      <td>1171</td>\n",
       "      <td>3981</td>\n",
       "      <td>https://i.ytimg.com/vi/GgVmn66oK_A/default.jpg</td>\n",
       "      <td>False</td>\n",
       "      <td>False</td>\n",
       "      <td>False</td>\n",
       "      <td>The world at large is improving, but some coun...</td>\n",
       "    </tr>\n",
       "    <tr>\n",
       "      <th>14</th>\n",
       "      <td>TaTleo4cOs8</td>\n",
       "      <td>17.14.11</td>\n",
       "      <td>SHOPPING FOR NEW FISH!!!</td>\n",
       "      <td>The king of DIY</td>\n",
       "      <td>15</td>\n",
       "      <td>2017-11-12T18:30:01.000Z</td>\n",
       "      <td>shopping for new fish|\"new fish\"|\"aquarium fis...</td>\n",
       "      <td>207532</td>\n",
       "      <td>7473</td>\n",
       "      <td>246</td>\n",
       "      <td>2120</td>\n",
       "      <td>https://i.ytimg.com/vi/TaTleo4cOs8/default.jpg</td>\n",
       "      <td>False</td>\n",
       "      <td>False</td>\n",
       "      <td>False</td>\n",
       "      <td>Today we go shopping for new fish for some of ...</td>\n",
       "    </tr>\n",
       "  </tbody>\n",
       "</table>\n",
       "</div>"
      ],
      "text/plain": [
       "       video_id trending_date  \\\n",
       "0   2kyS6SvSYSE      17.14.11   \n",
       "1   1ZAPwfrtAFY      17.14.11   \n",
       "2   5qpjK5DgCt4      17.14.11   \n",
       "3   puqaWrEC7tY      17.14.11   \n",
       "4   d380meD0W0M      17.14.11   \n",
       "5   gHZ1Qz0KiKM      17.14.11   \n",
       "6   39idVpFF7NQ      17.14.11   \n",
       "7   nc99ccSXST0      17.14.11   \n",
       "8   jr9QtXwC9vc      17.14.11   \n",
       "9   TUmyygCMMGA      17.14.11   \n",
       "10  9wRQljFNDW8      17.14.11   \n",
       "11  VifQlJit6A0      17.14.11   \n",
       "12  5E4ZBSInqUU      17.14.11   \n",
       "13  GgVmn66oK_A      17.14.11   \n",
       "14  TaTleo4cOs8      17.14.11   \n",
       "\n",
       "                                                title          channel_title  \\\n",
       "0                  WE WANT TO TALK ABOUT OUR MARRIAGE           CaseyNeistat   \n",
       "1   The Trump Presidency: Last Week Tonight with J...        LastWeekTonight   \n",
       "2   Racist Superman | Rudy Mancuso, King Bach & Le...           Rudy Mancuso   \n",
       "3                    Nickelback Lyrics: Real or Fake?  Good Mythical Morning   \n",
       "4                            I Dare You: GOING BALD!?               nigahiga   \n",
       "5                               2 Weeks with iPhone X               iJustine   \n",
       "6           Roy Moore & Jeff Sessions Cold Open - SNL    Saturday Night Live   \n",
       "7                 5 Ice Cream Gadgets put to the Test     CrazyRussianHacker   \n",
       "8   The Greatest Showman | Official Trailer 2 [HD]...       20th Century Fox   \n",
       "9   Why the rise of the robots won’t mean the end ...                    Vox   \n",
       "10  Dion Lewis' 103-Yd Kick Return TD vs. Denver! ...                    NFL   \n",
       "11  (SPOILERS) 'Shiva Saves the Day' Talked About ...                    amc   \n",
       "12         Marshmello - Blocks (Official Music Video)             marshmello   \n",
       "13             Which Countries Are About To Collapse?          NowThis World   \n",
       "14                           SHOPPING FOR NEW FISH!!!        The king of DIY   \n",
       "\n",
       "    category_id              publish_time  \\\n",
       "0            22  2017-11-13T17:13:01.000Z   \n",
       "1            24  2017-11-13T07:30:00.000Z   \n",
       "2            23  2017-11-12T19:05:24.000Z   \n",
       "3            24  2017-11-13T11:00:04.000Z   \n",
       "4            24  2017-11-12T18:01:41.000Z   \n",
       "5            28  2017-11-13T19:07:23.000Z   \n",
       "6            24  2017-11-12T05:37:17.000Z   \n",
       "7            28  2017-11-12T21:50:37.000Z   \n",
       "8             1  2017-11-13T14:00:23.000Z   \n",
       "9            25  2017-11-13T13:45:16.000Z   \n",
       "10           17  2017-11-13T02:05:26.000Z   \n",
       "11           24  2017-11-13T03:00:00.000Z   \n",
       "12           10  2017-11-13T17:00:00.000Z   \n",
       "13           25  2017-11-12T14:00:00.000Z   \n",
       "14           15  2017-11-12T18:30:01.000Z   \n",
       "\n",
       "                                                 tags    views   likes  \\\n",
       "0                                     SHANtell martin   748374   57527   \n",
       "1   last week tonight trump presidency|\"last week ...  2418783   97185   \n",
       "2   racist superman|\"rudy\"|\"mancuso\"|\"king\"|\"bach\"...  3191434  146033   \n",
       "3   rhett and link|\"gmm\"|\"good mythical morning\"|\"...   343168   10172   \n",
       "4   ryan|\"higa\"|\"higatv\"|\"nigahiga\"|\"i dare you\"|\"...  2095731  132235   \n",
       "5   ijustine|\"week with iPhone X\"|\"iphone x\"|\"appl...   119180    9763   \n",
       "6   SNL|\"Saturday Night Live\"|\"SNL Season 43\"|\"Epi...  2103417   15993   \n",
       "7   5 Ice Cream Gadgets|\"Ice Cream\"|\"Cream Sandwic...   817732   23663   \n",
       "8   Trailer|\"Hugh Jackman\"|\"Michelle Williams\"|\"Za...   826059    3543   \n",
       "9   vox.com|\"vox\"|\"explain\"|\"shift change\"|\"future...   256426   12654   \n",
       "10  NFL|\"Football\"|\"offense\"|\"defense\"|\"afc\"|\"nfc\"...    81377     655   \n",
       "11  The Walking Dead|\"shiva\"|\"tiger\"|\"king ezekiel...   104578    1576   \n",
       "12  marshmello|\"blocks\"|\"marshmello blocks\"|\"block...   687582  114188   \n",
       "13  nowthis|\"nowthis world\"|\"world news\"|\"nowthis ...   544770    7848   \n",
       "14  shopping for new fish|\"new fish\"|\"aquarium fis...   207532    7473   \n",
       "\n",
       "    dislikes  comment_count                                  thumbnail_link  \\\n",
       "0       2966          15954  https://i.ytimg.com/vi/2kyS6SvSYSE/default.jpg   \n",
       "1       6146          12703  https://i.ytimg.com/vi/1ZAPwfrtAFY/default.jpg   \n",
       "2       5339           8181  https://i.ytimg.com/vi/5qpjK5DgCt4/default.jpg   \n",
       "3        666           2146  https://i.ytimg.com/vi/puqaWrEC7tY/default.jpg   \n",
       "4       1989          17518  https://i.ytimg.com/vi/d380meD0W0M/default.jpg   \n",
       "5        511           1434  https://i.ytimg.com/vi/gHZ1Qz0KiKM/default.jpg   \n",
       "6       2445           1970  https://i.ytimg.com/vi/39idVpFF7NQ/default.jpg   \n",
       "7        778           3432  https://i.ytimg.com/vi/nc99ccSXST0/default.jpg   \n",
       "8        119            340  https://i.ytimg.com/vi/jr9QtXwC9vc/default.jpg   \n",
       "9       1363           2368  https://i.ytimg.com/vi/TUmyygCMMGA/default.jpg   \n",
       "10        25            177  https://i.ytimg.com/vi/9wRQljFNDW8/default.jpg   \n",
       "11       303           1279  https://i.ytimg.com/vi/VifQlJit6A0/default.jpg   \n",
       "12      1333           8371  https://i.ytimg.com/vi/5E4ZBSInqUU/default.jpg   \n",
       "13      1171           3981  https://i.ytimg.com/vi/GgVmn66oK_A/default.jpg   \n",
       "14       246           2120  https://i.ytimg.com/vi/TaTleo4cOs8/default.jpg   \n",
       "\n",
       "    comments_disabled  ratings_disabled  video_error_or_removed  \\\n",
       "0               False             False                   False   \n",
       "1               False             False                   False   \n",
       "2               False             False                   False   \n",
       "3               False             False                   False   \n",
       "4               False             False                   False   \n",
       "5               False             False                   False   \n",
       "6               False             False                   False   \n",
       "7               False             False                   False   \n",
       "8               False             False                   False   \n",
       "9               False             False                   False   \n",
       "10              False             False                   False   \n",
       "11              False             False                   False   \n",
       "12              False             False                   False   \n",
       "13              False             False                   False   \n",
       "14              False             False                   False   \n",
       "\n",
       "                                          description  \n",
       "0   SHANTELL'S CHANNEL - https://www.youtube.com/s...  \n",
       "1   One year after the presidential election, John...  \n",
       "2   WATCH MY PREVIOUS VIDEO ▶ \\n\\nSUBSCRIBE ► http...  \n",
       "3   Today we find out if Link is a Nickelback amat...  \n",
       "4   I know it's been a while since we did this sho...  \n",
       "5   Using the iPhone for the past two weeks -- her...  \n",
       "6   Embattled Alabama Senate candidate Roy Moore (...  \n",
       "7   Ice Cream Pint Combination Lock - http://amzn....  \n",
       "8   Inspired by the imagination of P.T. Barnum, Th...  \n",
       "9   For now, at least, we have better things to wo...  \n",
       "10  New England Patriots returner Dion Lewis blast...  \n",
       "11  Shiva arrives just in time as King Ezekiel att...  \n",
       "12  WATCH SILENCE MUSIC VIDEO ▶ https://youtu.be/T...  \n",
       "13  The world at large is improving, but some coun...  \n",
       "14  Today we go shopping for new fish for some of ...  "
      ]
     },
     "execution_count": 3,
     "metadata": {},
     "output_type": "execute_result"
    }
   ],
   "source": [
    "df = pd.read_csv('Data/USvideos.csv')\n",
    "df.head(15)"
   ]
  },
  {
   "cell_type": "code",
   "execution_count": 26,
   "metadata": {},
   "outputs": [
    {
     "data": {
      "text/plain": [
       "category_id\n",
       "43       51501058\n",
       "29      168941392\n",
       "19      343557084\n",
       "2       520690717\n",
       "15      764651989\n",
       "27     1180629990\n",
       "25     1473765704\n",
       "20     2141218625\n",
       "28     3487756816\n",
       "26     4078545064\n",
       "17     4404456673\n",
       "22     4917191726\n",
       "23     5117426208\n",
       "1      7284156721\n",
       "24    20604388195\n",
       "10    40132892190\n",
       "Name: views, dtype: int64"
      ]
     },
     "execution_count": 26,
     "metadata": {},
     "output_type": "execute_result"
    }
   ],
   "source": [
    "df.groupby('category_id').sum()['views'].sort_values()"
   ]
  },
  {
   "cell_type": "code",
   "execution_count": 4,
   "metadata": {},
   "outputs": [
    {
     "data": {
      "text/plain": [
       "(40949, 16)"
      ]
     },
     "execution_count": 4,
     "metadata": {},
     "output_type": "execute_result"
    }
   ],
   "source": [
    "df.shape"
   ]
  },
  {
   "cell_type": "code",
   "execution_count": 56,
   "metadata": {},
   "outputs": [],
   "source": [
    "all_tags = [tag for tag in df['tags'].str.split(pat=\"|\", expand= True).stack().reset_index(drop = True)]"
   ]
  },
  {
   "cell_type": "code",
   "execution_count": 57,
   "metadata": {},
   "outputs": [
    {
     "data": {
      "text/plain": [
       "['SHANtell martin',\n",
       " 'last week tonight trump presidency',\n",
       " '\"last week tonight donald trump\"',\n",
       " '\"john oliver trump\"',\n",
       " '\"donald trump\"']"
      ]
     },
     "execution_count": 57,
     "metadata": {},
     "output_type": "execute_result"
    }
   ],
   "source": [
    "all_tags[:5]"
   ]
  },
  {
   "cell_type": "code",
   "execution_count": 8,
   "metadata": {},
   "outputs": [],
   "source": [
    "def remove_url(txt):\n",
    "    \"\"\"Replace URLs found in a text string with nothing \n",
    "    (i.e. it will remove the URL from the string).\n",
    "\n",
    "    Parameters\n",
    "    ----------\n",
    "    txt : string\n",
    "        A text string that you want to parse and remove urls.\n",
    "\n",
    "    Returns\n",
    "    -------\n",
    "    The same txt string with url's removed.\n",
    "    \"\"\"\n",
    "\n",
    "    return \" \".join(re.sub(\"([^0-9A-Za-z \\t])|(\\w+:\\/\\/\\S+)\", \"\", txt).split())"
   ]
  },
  {
   "cell_type": "code",
   "execution_count": 59,
   "metadata": {},
   "outputs": [
    {
     "data": {
      "text/plain": [
       "['SHANtell martin',\n",
       " 'last week tonight trump presidency',\n",
       " 'last week tonight donald trump',\n",
       " 'john oliver trump',\n",
       " 'donald trump']"
      ]
     },
     "execution_count": 59,
     "metadata": {},
     "output_type": "execute_result"
    }
   ],
   "source": [
    "all_tags_no_urls = [remove_url(tag) for tag in all_tags]\n",
    "all_tags_no_urls[:5]"
   ]
  },
  {
   "cell_type": "code",
   "execution_count": 60,
   "metadata": {},
   "outputs": [
    {
     "data": {
      "text/plain": [
       "[['shantell', 'martin'], ['last', 'week', 'tonight', 'trump', 'presidency']]"
      ]
     },
     "execution_count": 60,
     "metadata": {},
     "output_type": "execute_result"
    }
   ],
   "source": [
    "words_in_tag = [tag.lower().split() for tag in all_tags_no_urls]\n",
    "words_in_tag[:2]"
   ]
  },
  {
   "cell_type": "code",
   "execution_count": 63,
   "metadata": {},
   "outputs": [
    {
     "data": {
      "text/plain": [
       "[['shantell', 'martin'], ['last', 'week', 'tonight', 'trump', 'presidency']]"
      ]
     },
     "execution_count": 63,
     "metadata": {},
     "output_type": "execute_result"
    }
   ],
   "source": [
    "tags_nsw = [[word for word in tag_words if not word in stop_words]\n",
    "              for tag_words in words_in_tag]\n",
    "tags_nsw[:2]"
   ]
  },
  {
   "cell_type": "code",
   "execution_count": 64,
   "metadata": {},
   "outputs": [
    {
     "data": {
      "text/plain": [
       "[('video', 8355),\n",
       " ('makeup', 8048),\n",
       " ('funny', 7323),\n",
       " ('new', 7097),\n",
       " ('2018', 6538),\n",
       " ('music', 6488),\n",
       " ('show', 6020),\n",
       " ('news', 5860),\n",
       " ('food', 4826),\n",
       " ('comedy', 4768),\n",
       " ('trailer', 4609),\n",
       " ('youtube', 4444),\n",
       " ('movie', 4415),\n",
       " ('best', 4073),\n",
       " ('live', 3736)]"
      ]
     },
     "execution_count": 64,
     "metadata": {},
     "output_type": "execute_result"
    }
   ],
   "source": [
    "all_words_nsw = list(itertools.chain(*tags_nsw))\n",
    "\n",
    "counts_nsw = collections.Counter(all_words_nsw)\n",
    "\n",
    "counts_nsw.most_common(15)"
   ]
  },
  {
   "cell_type": "code",
   "execution_count": 65,
   "metadata": {},
   "outputs": [
    {
     "data": {
      "text/plain": [
       "23294"
      ]
     },
     "execution_count": 65,
     "metadata": {},
     "output_type": "execute_result"
    }
   ],
   "source": [
    "len(counts_nsw)"
   ]
  },
  {
   "cell_type": "code",
   "execution_count": 91,
   "metadata": {},
   "outputs": [
    {
     "data": {
      "text/plain": [
       "8355"
      ]
     },
     "execution_count": 91,
     "metadata": {},
     "output_type": "execute_result"
    }
   ],
   "source": [
    "counts_nsw['video']"
   ]
  },
  {
   "cell_type": "code",
   "execution_count": 94,
   "metadata": {
    "scrolled": true
   },
   "outputs": [
    {
     "data": {
      "image/png": "[encoded data removed]",
      "text/plain": [
       "<Figure size 576x576 with 1 Axes>"
      ]
     },
     "metadata": {},
     "output_type": "display_data"
    }
   ],
   "source": [
    "clean_tags_nsw = pd.DataFrame(counts_nsw.most_common(15),\n",
    "                             columns=['tags', 'count'])\n",
    "fig, ax = plt.subplots(figsize=(8, 8))\n",
    "\n",
    "# Plot horizontal bar graph\n",
    "clean_tags_nsw.sort_values(by='count').plot.barh(x='tags',\n",
    "                      y='count',\n",
    "                      ax=ax,\n",
    "                      color=\"purple\")\n",
    "\n",
    "# ax.set_title(\"Common Tags Found in Trending Youtube Videos\")\n",
    "\n",
    "plt.savefig('tag_count.png', dpi = 300)\n",
    "plt.show();"
   ]
  },
  {
   "cell_type": "code",
   "execution_count": 12,
   "metadata": {},
   "outputs": [],
   "source": [
    "def plot_tags(df, color):\n",
    "    all_tags = [tag for tag in df['tags'].str.split(pat=\"|\", expand= True).stack().reset_index(drop = True)]\n",
    "    all_tags_no_urls = [remove_url(tag) for tag in all_tags]\n",
    "    words_in_tag = [tag.lower().split() for tag in all_tags_no_urls]\n",
    "    tags_nsw = [[word for word in tag_words if not word in stop_words]\n",
    "                  for tag_words in words_in_tag]\n",
    "    all_words_nsw = list(itertools.chain(*tags_nsw))\n",
    "    counts_nsw = collections.Counter(all_words_nsw)\n",
    "    clean_tags_nsw = pd.DataFrame(counts_nsw.most_common(15),\n",
    "                                 columns=['tags', 'count'])\n",
    "    fig, ax = plt.subplots(figsize=(8, 8))\n",
    "\n",
    "    # Plot horizontal bar graph\n",
    "    clean_tags_nsw.sort_values(by='count').plot.barh(x='tags',\n",
    "                          y='count',\n",
    "                          ax=ax,\n",
    "                          color=color)"
   ]
  },
  {
   "cell_type": "code",
   "execution_count": 30,
   "metadata": {},
   "outputs": [
    {
     "data": {
      "image/png": "[encoded data removed]",
      "text/plain": [
       "<Figure size 576x576 with 1 Axes>"
      ]
     },
     "metadata": {},
     "output_type": "display_data"
    }
   ],
   "source": [
    "# plot for music\n",
    "df_music = df[df['category_id'] == 10]\n",
    "plot_tags(df_music,'maroon')\n",
    "plt.savefig('music_tag.png', dpi = 300, bbox_inches='tight')\n",
    "plt.show();"
   ]
  },
  {
   "cell_type": "code",
   "execution_count": 31,
   "metadata": {},
   "outputs": [
    {
     "data": {
      "image/png": "[encoded data removed]",
      "text/plain": [
       "<Figure size 576x576 with 1 Axes>"
      ]
     },
     "metadata": {},
     "output_type": "display_data"
    }
   ],
   "source": [
    "# plot for entertainment\n",
    "df_enter = df[df['category_id'] == 24]\n",
    "plot_tags(df_enter,'navy')\n",
    "plt.savefig('entertain_tag.png', dpi = 300, bbox_inches='tight')\n",
    "plt.show();"
   ]
  },
  {
   "cell_type": "code",
   "execution_count": 32,
   "metadata": {},
   "outputs": [
    {
     "data": {
      "image/png": "[encoded data removed]",
      "text/plain": [
       "<Figure size 576x576 with 1 Axes>"
      ]
     },
     "metadata": {},
     "output_type": "display_data"
    }
   ],
   "source": [
    "# plot for film & animation\n",
    "df_film = df[df['category_id'] == 1]\n",
    "plot_tags(df_film, 'purple')\n",
    "plt.savefig('film_tag.png', dpi = 300, bbox_inches='tight')\n",
    "plt.show();"
   ]
  },
  {
   "cell_type": "code",
   "execution_count": null,
   "metadata": {},
   "outputs": [],
   "source": []
  }
 ],
 "metadata": {
  "kernelspec": {
   "display_name": "Python 3",
   "language": "python",
   "name": "python3"
  },
  "language_info": {
   "codemirror_mode": {
    "name": "ipython",
    "version": 3
   },
   "file_extension": ".py",
   "mimetype": "text/x-python",
   "name": "python",
   "nbconvert_exporter": "python",
   "pygments_lexer": "ipython3",
   "version": "3.7.6"
  }
 },
 "nbformat": 4,
 "nbformat_minor": 4
}
